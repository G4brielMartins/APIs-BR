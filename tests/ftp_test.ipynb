{
 "cells": [
  {
   "cell_type": "code",
   "execution_count": 1,
   "metadata": {},
   "outputs": [],
   "source": [
    "import ftplib"
   ]
  },
  {
   "cell_type": "code",
   "execution_count": 2,
   "metadata": {},
   "outputs": [
    {
     "data": {
      "text/plain": [
       "'230 Login successful.'"
      ]
     },
     "execution_count": 2,
     "metadata": {},
     "output_type": "execute_result"
    }
   ],
   "source": [
    "ftp_server = ftplib.FTP(\"geoftp.ibge.gov.br\")\n",
    "ftp_server.login()"
   ]
  },
  {
   "cell_type": "code",
   "execution_count": 3,
   "metadata": {},
   "outputs": [
    {
     "data": {
      "text/plain": [
       "['atlas',\n",
       " 'cartas_e_mapas',\n",
       " 'imagens_do_territorio',\n",
       " 'informacoes_ambientais',\n",
       " 'informacoes_sobre_posicionamento_geodesico',\n",
       " 'metodos_e_outros_documentos_de_referencia',\n",
       " 'modelos_digitais_de_superficie',\n",
       " 'nomes_geograficos',\n",
       " 'organizacao_do_territorio',\n",
       " 'produtos_educacionais',\n",
       " 'recortes_para_fins_estatisticos']"
      ]
     },
     "execution_count": 3,
     "metadata": {},
     "output_type": "execute_result"
    }
   ],
   "source": [
    "ftp_server.nlst()"
   ]
  },
  {
   "cell_type": "code",
   "execution_count": 4,
   "metadata": {},
   "outputs": [
    {
     "ename": "error_perm",
     "evalue": "550 Failed to open file.",
     "output_type": "error",
     "traceback": [
      "\u001b[0;31m---------------------------------------------------------------------------\u001b[0m",
      "\u001b[0;31merror_perm\u001b[0m                                Traceback (most recent call last)",
      "Cell \u001b[0;32mIn[4], line 2\u001b[0m\n\u001b[1;32m      1\u001b[0m \u001b[38;5;28;01mwith\u001b[39;00m \u001b[38;5;28mopen\u001b[39m(\u001b[38;5;124m'\u001b[39m\u001b[38;5;124mTestFTP.ods\u001b[39m\u001b[38;5;124m'\u001b[39m, \u001b[38;5;124m'\u001b[39m\u001b[38;5;124mwb\u001b[39m\u001b[38;5;124m'\u001b[39m) \u001b[38;5;28;01mas\u001b[39;00m file:\n\u001b[0;32m----> 2\u001b[0m     \u001b[43mftp_server\u001b[49m\u001b[38;5;241;43m.\u001b[39;49m\u001b[43mretrbinary\u001b[49m\u001b[43m(\u001b[49m\u001b[38;5;124;43m'\u001b[39;49m\u001b[38;5;124;43mRETR AR_BR_RG_UF_RGINT_RGI_MUN_2023.ods\u001b[39;49m\u001b[38;5;124;43m'\u001b[39;49m\u001b[43m,\u001b[49m\u001b[43m \u001b[49m\u001b[43mfile\u001b[49m\u001b[38;5;241;43m.\u001b[39;49m\u001b[43mwrite\u001b[49m\u001b[43m)\u001b[49m\n",
      "File \u001b[0;32m/usr/lib/python3.12/ftplib.py:436\u001b[0m, in \u001b[0;36mFTP.retrbinary\u001b[0;34m(self, cmd, callback, blocksize, rest)\u001b[0m\n\u001b[1;32m    422\u001b[0m \u001b[38;5;250m\u001b[39m\u001b[38;5;124;03m\"\"\"Retrieve data in binary mode.  A new port is created for you.\u001b[39;00m\n\u001b[1;32m    423\u001b[0m \n\u001b[1;32m    424\u001b[0m \u001b[38;5;124;03mArgs:\u001b[39;00m\n\u001b[0;32m   (...)\u001b[0m\n\u001b[1;32m    433\u001b[0m \u001b[38;5;124;03m  The response code.\u001b[39;00m\n\u001b[1;32m    434\u001b[0m \u001b[38;5;124;03m\"\"\"\u001b[39;00m\n\u001b[1;32m    435\u001b[0m \u001b[38;5;28mself\u001b[39m\u001b[38;5;241m.\u001b[39mvoidcmd(\u001b[38;5;124m'\u001b[39m\u001b[38;5;124mTYPE I\u001b[39m\u001b[38;5;124m'\u001b[39m)\n\u001b[0;32m--> 436\u001b[0m \u001b[38;5;28;01mwith\u001b[39;00m \u001b[38;5;28;43mself\u001b[39;49m\u001b[38;5;241;43m.\u001b[39;49m\u001b[43mtransfercmd\u001b[49m\u001b[43m(\u001b[49m\u001b[43mcmd\u001b[49m\u001b[43m,\u001b[49m\u001b[43m \u001b[49m\u001b[43mrest\u001b[49m\u001b[43m)\u001b[49m \u001b[38;5;28;01mas\u001b[39;00m conn:\n\u001b[1;32m    437\u001b[0m     \u001b[38;5;28;01mwhile\u001b[39;00m data \u001b[38;5;241m:=\u001b[39m conn\u001b[38;5;241m.\u001b[39mrecv(blocksize):\n\u001b[1;32m    438\u001b[0m         callback(data)\n",
      "File \u001b[0;32m/usr/lib/python3.12/ftplib.py:393\u001b[0m, in \u001b[0;36mFTP.transfercmd\u001b[0;34m(self, cmd, rest)\u001b[0m\n\u001b[1;32m    391\u001b[0m \u001b[38;5;28;01mdef\u001b[39;00m\u001b[38;5;250m \u001b[39m\u001b[38;5;21mtransfercmd\u001b[39m(\u001b[38;5;28mself\u001b[39m, cmd, rest\u001b[38;5;241m=\u001b[39m\u001b[38;5;28;01mNone\u001b[39;00m):\n\u001b[1;32m    392\u001b[0m \u001b[38;5;250m    \u001b[39m\u001b[38;5;124;03m\"\"\"Like ntransfercmd() but returns only the socket.\"\"\"\u001b[39;00m\n\u001b[0;32m--> 393\u001b[0m     \u001b[38;5;28;01mreturn\u001b[39;00m \u001b[38;5;28;43mself\u001b[39;49m\u001b[38;5;241;43m.\u001b[39;49m\u001b[43mntransfercmd\u001b[49m\u001b[43m(\u001b[49m\u001b[43mcmd\u001b[49m\u001b[43m,\u001b[49m\u001b[43m \u001b[49m\u001b[43mrest\u001b[49m\u001b[43m)\u001b[49m[\u001b[38;5;241m0\u001b[39m]\n",
      "File \u001b[0;32m/usr/lib/python3.12/ftplib.py:359\u001b[0m, in \u001b[0;36mFTP.ntransfercmd\u001b[0;34m(self, cmd, rest)\u001b[0m\n\u001b[1;32m    357\u001b[0m \u001b[38;5;28;01mif\u001b[39;00m rest \u001b[38;5;129;01mis\u001b[39;00m \u001b[38;5;129;01mnot\u001b[39;00m \u001b[38;5;28;01mNone\u001b[39;00m:\n\u001b[1;32m    358\u001b[0m     \u001b[38;5;28mself\u001b[39m\u001b[38;5;241m.\u001b[39msendcmd(\u001b[38;5;124m\"\u001b[39m\u001b[38;5;124mREST \u001b[39m\u001b[38;5;132;01m%s\u001b[39;00m\u001b[38;5;124m\"\u001b[39m \u001b[38;5;241m%\u001b[39m rest)\n\u001b[0;32m--> 359\u001b[0m resp \u001b[38;5;241m=\u001b[39m \u001b[38;5;28;43mself\u001b[39;49m\u001b[38;5;241;43m.\u001b[39;49m\u001b[43msendcmd\u001b[49m\u001b[43m(\u001b[49m\u001b[43mcmd\u001b[49m\u001b[43m)\u001b[49m\n\u001b[1;32m    360\u001b[0m \u001b[38;5;66;03m# Some servers apparently send a 200 reply to\u001b[39;00m\n\u001b[1;32m    361\u001b[0m \u001b[38;5;66;03m# a LIST or STOR command, before the 150 reply\u001b[39;00m\n\u001b[1;32m    362\u001b[0m \u001b[38;5;66;03m# (and way before the 226 reply). This seems to\u001b[39;00m\n\u001b[1;32m    363\u001b[0m \u001b[38;5;66;03m# be in violation of the protocol (which only allows\u001b[39;00m\n\u001b[1;32m    364\u001b[0m \u001b[38;5;66;03m# 1xx or error messages for LIST), so we just discard\u001b[39;00m\n\u001b[1;32m    365\u001b[0m \u001b[38;5;66;03m# this response.\u001b[39;00m\n\u001b[1;32m    366\u001b[0m \u001b[38;5;28;01mif\u001b[39;00m resp[\u001b[38;5;241m0\u001b[39m] \u001b[38;5;241m==\u001b[39m \u001b[38;5;124m'\u001b[39m\u001b[38;5;124m2\u001b[39m\u001b[38;5;124m'\u001b[39m:\n",
      "File \u001b[0;32m/usr/lib/python3.12/ftplib.py:281\u001b[0m, in \u001b[0;36mFTP.sendcmd\u001b[0;34m(self, cmd)\u001b[0m\n\u001b[1;32m    279\u001b[0m \u001b[38;5;250m\u001b[39m\u001b[38;5;124;03m'''Send a command and return the response.'''\u001b[39;00m\n\u001b[1;32m    280\u001b[0m \u001b[38;5;28mself\u001b[39m\u001b[38;5;241m.\u001b[39mputcmd(cmd)\n\u001b[0;32m--> 281\u001b[0m \u001b[38;5;28;01mreturn\u001b[39;00m \u001b[38;5;28;43mself\u001b[39;49m\u001b[38;5;241;43m.\u001b[39;49m\u001b[43mgetresp\u001b[49m\u001b[43m(\u001b[49m\u001b[43m)\u001b[49m\n",
      "File \u001b[0;32m/usr/lib/python3.12/ftplib.py:254\u001b[0m, in \u001b[0;36mFTP.getresp\u001b[0;34m(self)\u001b[0m\n\u001b[1;32m    252\u001b[0m     \u001b[38;5;28;01mraise\u001b[39;00m error_temp(resp)\n\u001b[1;32m    253\u001b[0m \u001b[38;5;28;01mif\u001b[39;00m c \u001b[38;5;241m==\u001b[39m \u001b[38;5;124m'\u001b[39m\u001b[38;5;124m5\u001b[39m\u001b[38;5;124m'\u001b[39m:\n\u001b[0;32m--> 254\u001b[0m     \u001b[38;5;28;01mraise\u001b[39;00m error_perm(resp)\n\u001b[1;32m    255\u001b[0m \u001b[38;5;28;01mraise\u001b[39;00m error_proto(resp)\n",
      "\u001b[0;31merror_perm\u001b[0m: 550 Failed to open file."
     ]
    }
   ],
   "source": [
    "with open('TestFTP.ods', 'wb') as file:\n",
    "    ftp_server.retrbinary('RETR AR_BR_RG_UF_RGINT_RGI_MUN_2023.ods', file.write)"
   ]
  }
 ],
 "metadata": {
  "kernelspec": {
   "display_name": ".venv",
   "language": "python",
   "name": "python3"
  },
  "language_info": {
   "codemirror_mode": {
    "name": "ipython",
    "version": 3
   },
   "file_extension": ".py",
   "mimetype": "text/x-python",
   "name": "python",
   "nbconvert_exporter": "python",
   "pygments_lexer": "ipython3",
   "version": "3.12.3"
  }
 },
 "nbformat": 4,
 "nbformat_minor": 2
}
