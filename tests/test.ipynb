{
 "cells": [
  {
   "cell_type": "code",
   "execution_count": 1,
   "metadata": {},
   "outputs": [],
   "source": [
    "import requests\n",
    "import os\n",
    "\n",
    "import pandas as pd\n",
    "\n",
    "from apisbr.api import IBGEAgregados"
   ]
  },
  {
   "cell_type": "code",
   "execution_count": 2,
   "metadata": {},
   "outputs": [],
   "source": [
    "api = IBGEAgregados()"
   ]
  },
  {
   "cell_type": "code",
   "execution_count": 3,
   "metadata": {},
   "outputs": [
    {
     "data": {
      "text/plain": [
       "{'id': 6415,\n",
       " 'nome': 'População',\n",
       " 'URL': 'https://sidra.ibge.gov.br/tabela/6415',\n",
       " 'pesquisa': 'Pesquisa Nacional por Amostra de Domicílios Contínua anual',\n",
       " 'assunto': 'Mercado de trabalho',\n",
       " 'periodicidade': {'frequencia': 'anual', 'inicio': 2012, 'fim': 2024},\n",
       " 'nivelTerritorial': {'Administrativo': ['N1', 'N2', 'N3'],\n",
       "  'Especial': [],\n",
       "  'IBGE': []},\n",
       " 'variaveis': [{'id': 606,\n",
       "   'nome': 'População',\n",
       "   'unidade': 'Mil pessoas',\n",
       "   'sumarizacao': []},\n",
       "  {'id': 6541,\n",
       "   'nome': 'Coeficiente de variação - População',\n",
       "   'unidade': '%',\n",
       "   'sumarizacao': []}],\n",
       " 'classificacoes': []}"
      ]
     },
     "execution_count": 3,
     "metadata": {},
     "output_type": "execute_result"
    }
   ],
   "source": [
    "api.get_metadata('População')"
   ]
  },
  {
   "cell_type": "code",
   "execution_count": 6,
   "metadata": {},
   "outputs": [
    {
     "data": {
      "text/plain": [
       "{'Pessoas de 25 anos ou mais de idade - Homens - Total':                         2016     2017     2018     2019     2022     2023\n",
       " Rondônia               473.0    495.0    509.0    516.0    547.0    577.0\n",
       " Acre                   198.0    205.0    215.0    223.0    239.0    242.0\n",
       " Amazonas               949.0    975.0   1039.0   1032.0   1108.0   1129.0\n",
       " Roraima                119.0    124.0    134.0    142.0    160.0    163.0\n",
       " Pará                  2160.0   2185.0   2304.0   2291.0   2469.0   2499.0\n",
       " Amapá                  189.0    198.0    205.0    213.0    239.0    247.0\n",
       " Tocantins              410.0    436.0    455.0    464.0    485.0    483.0\n",
       " Maranhão              1758.0   1812.0   1840.0   1839.0   1940.0   1989.0\n",
       " Piauí                  922.0    918.0    934.0    961.0    988.0    995.0\n",
       " Ceará                 2444.0   2552.0   2577.0   2625.0   2824.0   2812.0\n",
       " Rio Grande do Norte    988.0    997.0   1013.0   1046.0   1103.0   1133.0\n",
       " Paraíba               1087.0   1111.0   1122.0   1148.0   1213.0   1207.0\n",
       " Pernambuco            2592.0   2618.0   2689.0   2684.0   2788.0   2891.0\n",
       " Alagoas                858.0    891.0    905.0    910.0    942.0    932.0\n",
       " Sergipe                613.0    637.0    622.0    646.0    694.0    667.0\n",
       " Bahia                 4134.0   4193.0   4272.0   4334.0   4440.0   4582.0\n",
       " Minas Gerais          6319.0   6318.0   6492.0   6614.0   6940.0   6973.0\n",
       " Espírito Santo        1166.0   1200.0   1194.0   1229.0   1303.0   1314.0\n",
       " Rio de Janeiro        5195.0   5311.0   5403.0   5429.0   5613.0   5631.0\n",
       " São Paulo            13722.0  13889.0  13839.0  14262.0  14901.0  15181.0\n",
       " Paraná                3325.0   3404.0   3474.0   3526.0   3672.0   3789.0\n",
       " Santa Catarina        2142.0   2187.0   2255.0   2287.0   2398.0   2430.0\n",
       " Rio Grande do Sul     3487.0   3524.0   3600.0   3629.0   3795.0   3796.0\n",
       " Mato Grosso do Sul     751.0    788.0    777.0    789.0    838.0    873.0\n",
       " Mato Grosso            981.0    983.0   1021.0   1031.0   1094.0   1085.0\n",
       " Goiás                 1976.0   2029.0   2058.0   2086.0   2251.0   2321.0\n",
       " Distrito Federal       820.0    835.0    874.0    872.0    906.0    962.0,\n",
       " 'Pessoas de 25 anos ou mais de idade - Mulheres - Total':                         2016     2017     2018     2019     2022     2023\n",
       " Rondônia               473.0    497.0    502.0    513.0    575.0    593.0\n",
       " Acre                   211.0    215.0    223.0    231.0    258.0    259.0\n",
       " Amazonas               956.0    998.0   1051.0   1050.0   1165.0   1169.0\n",
       " Roraima                121.0    127.0    138.0    135.0    163.0    167.0\n",
       " Pará                  2232.0   2312.0   2340.0   2393.0   2542.0   2638.0\n",
       " Amapá                  200.0    205.0    220.0    227.0    247.0    263.0\n",
       " Tocantins              414.0    437.0    448.0    458.0    478.0    484.0\n",
       " Maranhão              1869.0   1925.0   1969.0   2025.0   2130.0   2180.0\n",
       " Piauí                 1007.0   1013.0   1011.0   1011.0   1059.0   1069.0\n",
       " Ceará                 2761.0   2822.0   2896.0   2934.0   3126.0   3165.0\n",
       " Rio Grande do Norte   1093.0   1115.0   1109.0   1151.0   1212.0   1216.0\n",
       " Paraíba               1232.0   1256.0   1282.0   1275.0   1322.0   1349.0\n",
       " Pernambuco            3015.0   3051.0   3094.0   3122.0   3270.0   3311.0\n",
       " Alagoas                983.0   1022.0   1034.0   1050.0   1070.0   1084.0\n",
       " Sergipe                697.0    702.0    708.0    726.0    749.0    774.0\n",
       " Bahia                 4532.0   4565.0   4710.0   4737.0   5028.0   5130.0\n",
       " Minas Gerais          6850.0   6816.0   6993.0   7077.0   7279.0   7392.0\n",
       " Espírito Santo        1259.0   1294.0   1290.0   1307.0   1403.0   1430.0\n",
       " Rio de Janeiro        5980.0   6043.0   6202.0   6337.0   6590.0   6593.0\n",
       " São Paulo            15138.0  15405.0  15539.0  15822.0  16695.0  16942.0\n",
       " Paraná                3586.0   3679.0   3680.0   3752.0   3896.0   3977.0\n",
       " Santa Catarina        2255.0   2286.0   2348.0   2413.0   2470.0   2515.0\n",
       " Rio Grande do Sul     3818.0   3898.0   3928.0   3981.0   4123.0   4097.0\n",
       " Mato Grosso do Sul     815.0    832.0    824.0    844.0    883.0    923.0\n",
       " Mato Grosso            971.0    997.0   1036.0   1033.0   1065.0   1097.0\n",
       " Goiás                 2073.0   2158.0   2189.0   2250.0   2380.0   2426.0\n",
       " Distrito Federal       937.0    967.0    998.0   1024.0   1047.0   1082.0}"
      ]
     },
     "execution_count": 6,
     "metadata": {},
     "output_type": "execute_result"
    }
   ],
   "source": [
    "api.get_data('7269-1643', level='Unidade da Federação', classify={'Sexo': ['Homens', 'Mulheres']})"
   ]
  },
  {
   "cell_type": "code",
   "execution_count": null,
   "metadata": {},
   "outputs": [],
   "source": []
  }
 ],
 "metadata": {
  "kernelspec": {
   "display_name": ".venv",
   "language": "python",
   "name": "python3"
  },
  "language_info": {
   "codemirror_mode": {
    "name": "ipython",
    "version": 3
   },
   "file_extension": ".py",
   "mimetype": "text/x-python",
   "name": "python",
   "nbconvert_exporter": "python",
   "pygments_lexer": "ipython3",
   "version": "3.12.3"
  }
 },
 "nbformat": 4,
 "nbformat_minor": 2
}
